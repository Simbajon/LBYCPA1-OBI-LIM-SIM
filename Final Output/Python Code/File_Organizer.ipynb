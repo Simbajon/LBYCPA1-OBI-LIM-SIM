{
 "cells": [
  {
   "cell_type": "code",
   "execution_count": 1,
   "id": "4189cdda",
   "metadata": {},
   "outputs": [
    {
     "ename": "NameError",
     "evalue": "name '_file_' is not defined",
     "output_type": "error",
     "traceback": [
      "\u001b[1;31m---------------------------------------------------------------------------\u001b[0m",
      "\u001b[1;31mNameError\u001b[0m                                 Traceback (most recent call last)",
      "Cell \u001b[1;32mIn[1], line 43\u001b[0m\n\u001b[0;32m     39\u001b[0m                     \u001b[38;5;28;01mbreak\u001b[39;00m\n\u001b[0;32m     41\u001b[0m     \u001b[38;5;66;03m# Move files to their appropriate folders\u001b[39;00m\n\u001b[1;32m---> 43\u001b[0m current_dir \u001b[38;5;241m=\u001b[39m os\u001b[38;5;241m.\u001b[39mpath\u001b[38;5;241m.\u001b[39mdirname(os\u001b[38;5;241m.\u001b[39mpath\u001b[38;5;241m.\u001b[39mabspath(\u001b[43m_file_\u001b[49m))\n\u001b[0;32m     44\u001b[0m organize_files(current_dir)\n",
      "\u001b[1;31mNameError\u001b[0m: name '_file_' is not defined"
     ]
    }
   ],
   "source": [
    "import os\n",
    "import shutil\n",
    "\n",
    "def organize_files(directory_path):\n",
    "   \n",
    "    files = os.listdir(directory_path)\n",
    "\n",
    "\n",
    "    # Get all the files in the desired directory\n",
    "   \n",
    "   \n",
    "    file_types = {\n",
    "        \"Images\": [\".jpeg\", \".jpg\", \".png\", \".gif\", \".bmp\"],\n",
    "        \"Videos\": [\".avi\", \".mp4\", \".wmv\", \".mov\", \".flv\"],\n",
    "        \"Documents\": [\".doc\", \".docx\", \".pdf\", \".txt\", \".rtf\", \".odt\", \".vsdx\", \".xlsx\", \".pptx\", \".jar\"],\n",
    "        \"Audio\": [\".mp3\", \".wav\", \".wma\", \".aac\", \".flac\"],\n",
    "        \"Code\": [\".ipynb\", \".py\", \".java\", \".cpp\", \".c\", \".h\", \".js\", \".html\", \".css\"],\n",
    "        \"Compressed\": [\".zip\", \".rar\", \".gz\", \".tar\", \".7z\"],\n",
    "        \"Executables\": [\".exe\", \".msi\"]\n",
    "    }\n",
    "   \n",
    "    # Create a dictionary to hold the file types and their corresponding file extensions\n",
    "   \n",
    "    for folder_name in file_types:\n",
    "        folder_path = os.path.join(directory_path, folder_name)\n",
    "        if not os.path.exists(folder_path):\n",
    "            os.makedirs(folder_path)\n",
    "           \n",
    "    # Create folders for each file type\n",
    "   \n",
    "    for file in files:\n",
    "        file_path = os.path.join(directory_path, file)\n",
    "        if os.path.isfile(file_path):\n",
    "            file_extension = os.path.splitext(file)[1].lower()\n",
    "            for folder_name, extensions in file_types.items():\n",
    "                if file_extension in extensions:\n",
    "                    folder_path = os.path.join(directory_path, folder_name)\n",
    "                    shutil.move(file_path, folder_path)\n",
    "                    break\n",
    "                   \n",
    "    # Move files to their appropriate folders\n",
    "\n",
    "current_dir = os.path.dirname(os.path.abspath(__file__))\n",
    "organize_files(current_dir)"
   ]
  }
 ],
 "metadata": {
  "kernelspec": {
   "display_name": "Python 3 (ipykernel)",
   "language": "python",
   "name": "python3"
  },
  "language_info": {
   "codemirror_mode": {
    "name": "ipython",
    "version": 3
   },
   "file_extension": ".py",
   "mimetype": "text/x-python",
   "name": "python",
   "nbconvert_exporter": "python",
   "pygments_lexer": "ipython3",
   "version": "3.11.1"
  }
 },
 "nbformat": 4,
 "nbformat_minor": 5
}
